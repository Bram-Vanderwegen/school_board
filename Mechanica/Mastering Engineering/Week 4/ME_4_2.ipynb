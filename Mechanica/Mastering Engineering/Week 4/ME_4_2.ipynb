{
 "cells": [
  {
   "cell_type": "code",
   "execution_count": 3,
   "metadata": {},
   "outputs": [],
   "source": [
    "import math"
   ]
  },
  {
   "cell_type": "code",
   "execution_count": 4,
   "metadata": {},
   "outputs": [],
   "source": [
    "v0 = 0\n",
    "v1 = 25\n",
    "t = 30\n",
    "theta = 0.099669\n",
    "m = 2700\n",
    "g = 9.81\n",
    "e = 0.75"
   ]
  },
  {
   "cell_type": "code",
   "execution_count": 5,
   "metadata": {},
   "outputs": [
    {
     "name": "stdout",
     "output_type": "stream",
     "text": [
      "0.8333333333333334\n",
      "4885.564164495614\n",
      "122139.10411239036\n",
      "162852.13881652048\n",
      "81426.06940826024\n"
     ]
    }
   ],
   "source": [
    "a = v1/t\n",
    "print(a)\n",
    "Fd = m * a\n",
    "Fz = math.sin(theta)*m*g\n",
    "F = Fz + Fd\n",
    "print(F)\n",
    "Pmax = F * v1\n",
    "print(Pmax)\n",
    "Ptot = Pmax/0.75\n",
    "print(Ptot)\n",
    "Pavg = Ptot/2\n",
    "print(Pavg)"
   ]
  },
  {
   "cell_type": "code",
   "execution_count": null,
   "metadata": {},
   "outputs": [],
   "source": []
  }
 ],
 "metadata": {
  "kernelspec": {
   "display_name": "Python 3 (ipykernel)",
   "language": "python",
   "name": "python3"
  },
  "language_info": {
   "codemirror_mode": {
    "name": "ipython",
    "version": 3
   },
   "file_extension": ".py",
   "mimetype": "text/x-python",
   "name": "python",
   "nbconvert_exporter": "python",
   "pygments_lexer": "ipython3",
   "version": "3.11.5"
  }
 },
 "nbformat": 4,
 "nbformat_minor": 4
}
