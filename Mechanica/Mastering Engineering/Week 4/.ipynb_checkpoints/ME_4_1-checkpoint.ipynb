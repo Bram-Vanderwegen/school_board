{
  "metadata": {
    "language_info": {
      "codemirror_mode": {
        "name": "python",
        "version": 3
      },
      "file_extension": ".py",
      "mimetype": "text/x-python",
      "name": "python",
      "nbconvert_exporter": "python",
      "pygments_lexer": "ipython3",
      "version": "3.8"
    },
    "kernelspec": {
      "name": "python",
      "display_name": "Python (Pyodide)",
      "language": "python"
    }
  },
  "nbformat_minor": 4,
  "nbformat": 4,
  "cells": [
    {
      "cell_type": "code",
      "source": "import math",
      "metadata": {
        "trusted": true
      },
      "execution_count": 1,
      "outputs": []
    },
    {
      "cell_type": "code",
      "source": "m = 150\nF1 = 100\nF2 = 800\nµ = 0.2\ng = -9.81\nv = 9",
      "metadata": {
        "trusted": true
      },
      "execution_count": 31,
      "outputs": []
    },
    {
      "cell_type": "code",
      "source": "F1y = (3/5)*F1\nF2y = -math.sin(math.pi/6)*F2\nFz = m * g\nFn = -(Fz + F1y + F2y)\nFw = µ * Fn\nF1x = (4/5)*F1\nF2x = math.cos(math.pi/6)*F2\nprint(Fz)\nprint(Fn)\nprint(Fw)\nprint(F1x)\nprint(F2x)",
      "metadata": {
        "trusted": true
      },
      "execution_count": 32,
      "outputs": [
        {
          "name": "stdout",
          "text": "-1471.5\n1811.5\n362.3\n80.0\n692.820323027551\n",
          "output_type": "stream"
        }
      ]
    },
    {
      "cell_type": "code",
      "source": "Fx = F1x + F2x - Fw\nprint(Fx)\na = Fx/m\nprint(a)",
      "metadata": {
        "trusted": true
      },
      "execution_count": 33,
      "outputs": [
        {
          "name": "stdout",
          "text": "410.520323027551\n2.7368021535170066\n",
          "output_type": "stream"
        }
      ]
    },
    {
      "cell_type": "code",
      "source": "# v = v0 + at\nt = v/a\nprint(t)",
      "metadata": {
        "trusted": true
      },
      "execution_count": 34,
      "outputs": [
        {
          "name": "stdout",
          "text": "3.28850954331291\n",
          "output_type": "stream"
        }
      ]
    },
    {
      "cell_type": "code",
      "source": "# s = x0 + vt + (1/2)at^2\ns = 0 + 0*t + (1/2)*a*t**2\nprint(s)",
      "metadata": {
        "trusted": true
      },
      "execution_count": 35,
      "outputs": [
        {
          "name": "stdout",
          "text": "14.798292944908095\n",
          "output_type": "stream"
        }
      ]
    },
    {
      "cell_type": "code",
      "source": "",
      "metadata": {},
      "execution_count": null,
      "outputs": []
    },
    {
      "cell_type": "code",
      "source": "",
      "metadata": {},
      "execution_count": null,
      "outputs": []
    }
  ]
}