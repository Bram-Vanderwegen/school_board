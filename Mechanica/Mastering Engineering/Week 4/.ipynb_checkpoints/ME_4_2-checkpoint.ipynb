{
  "metadata": {
    "language_info": {
      "codemirror_mode": {
        "name": "python",
        "version": 3
      },
      "file_extension": ".py",
      "mimetype": "text/x-python",
      "name": "python",
      "nbconvert_exporter": "python",
      "pygments_lexer": "ipython3",
      "version": "3.8"
    },
    "kernelspec": {
      "name": "python",
      "display_name": "Python (Pyodide)",
      "language": "python"
    }
  },
  "nbformat_minor": 4,
  "nbformat": 4,
  "cells": [
    {
      "cell_type": "code",
      "source": "import math",
      "metadata": {
        "trusted": true
      },
      "execution_count": 1,
      "outputs": []
    },
    {
      "cell_type": "code",
      "source": "v0 = 0\nv1 = 25\nt = 30\ntheta = 0.099669\nm = 2000\ng = 9.81\ne = 0.75",
      "metadata": {
        "trusted": true
      },
      "execution_count": 21,
      "outputs": []
    },
    {
      "cell_type": "code",
      "source": "a = v1/t\nprint(a)\nFd = m * a\nFz = math.sin(theta)*m*g\nF = Fz + Fd\nprint(F)\nPmax = F * v1\nprint(Pmax)\nPtot = Pmax/0.75\nprint(Ptot)\nPavg = Ptot/2\nprint(Pavg)",
      "metadata": {
        "trusted": true
      },
      "execution_count": 36,
      "outputs": [
        {
          "name": "stdout",
          "text": "0.8333333333333334\n3618.936418144899\n90473.41045362248\n120631.2139381633\n60315.60696908165\n",
          "output_type": "stream"
        }
      ]
    },
    {
      "cell_type": "code",
      "source": "",
      "metadata": {},
      "execution_count": null,
      "outputs": []
    }
  ]
}