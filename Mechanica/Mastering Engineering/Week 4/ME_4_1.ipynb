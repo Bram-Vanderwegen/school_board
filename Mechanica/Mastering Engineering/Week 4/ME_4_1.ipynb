{
 "cells": [
  {
   "cell_type": "code",
   "execution_count": 1,
   "metadata": {},
   "outputs": [],
   "source": [
    "import math"
   ]
  },
  {
   "cell_type": "code",
   "execution_count": 31,
   "metadata": {},
   "outputs": [],
   "source": [
    "m = 150\n",
    "F1 = 100\n",
    "F2 = 800\n",
    "µ = 0.2\n",
    "g = -9.81\n",
    "v = 9"
   ]
  },
  {
   "cell_type": "code",
   "execution_count": 32,
   "metadata": {},
   "outputs": [
    {
     "name": "stdout",
     "output_type": "stream",
     "text": [
      "-1471.5\n",
      "1811.5\n",
      "362.3\n",
      "80.0\n",
      "692.820323027551\n"
     ]
    }
   ],
   "source": [
    "F1y = (3/5)*F1\n",
    "F2y = -math.sin(math.pi/6)*F2\n",
    "Fz = m * g\n",
    "Fn = -(Fz + F1y + F2y)\n",
    "Fw = µ * Fn\n",
    "F1x = (4/5)*F1\n",
    "F2x = math.cos(math.pi/6)*F2\n",
    "print(Fz)\n",
    "print(Fn)\n",
    "print(Fw)\n",
    "print(F1x)\n",
    "print(F2x)"
   ]
  },
  {
   "cell_type": "code",
   "execution_count": 33,
   "metadata": {},
   "outputs": [
    {
     "name": "stdout",
     "output_type": "stream",
     "text": [
      "410.520323027551\n",
      "2.7368021535170066\n"
     ]
    }
   ],
   "source": [
    "Fx = F1x + F2x - Fw\n",
    "print(Fx)\n",
    "a = Fx/m\n",
    "print(a)"
   ]
  },
  {
   "cell_type": "code",
   "execution_count": 34,
   "metadata": {},
   "outputs": [
    {
     "name": "stdout",
     "output_type": "stream",
     "text": [
      "3.28850954331291\n"
     ]
    }
   ],
   "source": [
    "# v = v0 + at\n",
    "t = v/a\n",
    "print(t)"
   ]
  },
  {
   "cell_type": "code",
   "execution_count": 35,
   "metadata": {},
   "outputs": [
    {
     "name": "stdout",
     "output_type": "stream",
     "text": [
      "14.798292944908095\n"
     ]
    }
   ],
   "source": [
    "# s = x0 + vt + (1/2)at^2\n",
    "s = 0 + 0*t + (1/2)*a*t**2\n",
    "print(s)"
   ]
  },
  {
   "cell_type": "code",
   "execution_count": null,
   "metadata": {},
   "outputs": [],
   "source": []
  },
  {
   "cell_type": "code",
   "execution_count": null,
   "metadata": {},
   "outputs": [],
   "source": []
  }
 ],
 "metadata": {
  "kernelspec": {
   "display_name": "Python 3 (ipykernel)",
   "language": "python",
   "name": "python3"
  },
  "language_info": {
   "codemirror_mode": {
    "name": "ipython",
    "version": 3
   },
   "file_extension": ".py",
   "mimetype": "text/x-python",
   "name": "python",
   "nbconvert_exporter": "python",
   "pygments_lexer": "ipython3",
   "version": "3.11.5"
  }
 },
 "nbformat": 4,
 "nbformat_minor": 4
}
