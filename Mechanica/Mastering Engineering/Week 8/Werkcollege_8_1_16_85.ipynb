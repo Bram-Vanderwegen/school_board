{
 "cells": [
  {
   "cell_type": "code",
   "execution_count": 20,
   "id": "18a92c10-31d8-4aef-bdcb-ad5b079bd279",
   "metadata": {},
   "outputs": [],
   "source": [
    "import math"
   ]
  },
  {
   "cell_type": "code",
   "execution_count": 37,
   "id": "92acba3d-87d6-419a-a195-dff1a310aaf3",
   "metadata": {},
   "outputs": [],
   "source": [
    "# input vars\n",
    "Wcd = 3\n",
    "Theta = 38"
   ]
  },
  {
   "cell_type": "code",
   "execution_count": 38,
   "id": "6334f3e1-1f11-471a-92b1-58bc38c60ef4",
   "metadata": {},
   "outputs": [
    {
     "name": "stdout",
     "output_type": "stream",
     "text": [
      "3.5999999999999996\n"
     ]
    }
   ],
   "source": [
    "Vc = Wcd * 0.6\n",
    "print(vc)"
   ]
  },
  {
   "cell_type": "code",
   "execution_count": 39,
   "id": "bc4b5220-fdfe-4cc5-a3ee-01e30718b66b",
   "metadata": {},
   "outputs": [
    {
     "name": "stdout",
     "output_type": "stream",
     "text": [
      "0.4687713759040304\n"
     ]
    }
   ],
   "source": [
    "Rcor = math.tan(Theta/180 * math.pi) * 0.6\n",
    "print(Rcor)"
   ]
  },
  {
   "cell_type": "code",
   "execution_count": 40,
   "id": "7b5234b4-e6f4-49ae-8a23-8535d5ccf854",
   "metadata": {},
   "outputs": [
    {
     "name": "stdout",
     "output_type": "stream",
     "text": [
      "3.8398248965792363\n"
     ]
    }
   ],
   "source": [
    "Wbc = Vc/Rcor\n",
    "print(Wbc)"
   ]
  },
  {
   "cell_type": "code",
   "execution_count": 41,
   "id": "9026956b-cddb-4773-8e75-594651b9e33d",
   "metadata": {},
   "outputs": [
    {
     "name": "stdout",
     "output_type": "stream",
     "text": [
      "0.5565488324190051\n"
     ]
    }
   ],
   "source": [
    "Reor = math.sqrt(Rcor**2 + 0.3**2)\n",
    "print(Reor)"
   ]
  },
  {
   "cell_type": "code",
   "execution_count": 42,
   "id": "2e29a4db-5beb-4cce-95cf-116328944e22",
   "metadata": {},
   "outputs": [
    {
     "name": "stdout",
     "output_type": "stream",
     "text": [
      "2.137050062884601\n"
     ]
    }
   ],
   "source": [
    "Ve = Reor * Wbc\n",
    "print(Ve)"
   ]
  },
  {
   "cell_type": "code",
   "execution_count": 43,
   "id": "3fe11c40-b852-409d-86a8-3a7e4d58e110",
   "metadata": {},
   "outputs": [],
   "source": [
    "##############################"
   ]
  },
  {
   "cell_type": "code",
   "execution_count": 44,
   "id": "62a56b91-20f3-41d0-b9e3-2e7c6fb5f508",
   "metadata": {},
   "outputs": [
    {
     "name": "stdout",
     "output_type": "stream",
     "text": [
      "0.5692924871490737\n"
     ]
    }
   ],
   "source": [
    "angle_v = math.pi/2 - math.atan(Rcor/0.3)\n",
    "print(angle_v)"
   ]
  },
  {
   "cell_type": "code",
   "execution_count": 45,
   "id": "db72de93-e89f-40df-929d-30081f7cfec0",
   "metadata": {},
   "outputs": [
    {
     "name": "stdout",
     "output_type": "stream",
     "text": [
      "1.8000000000000003\n",
      "1.1519474689737708\n"
     ]
    }
   ],
   "source": [
    "vx = math.cos(angle_v) * Ve\n",
    "vy = math.sin(angle_v) * Ve\n",
    "print(vx)\n",
    "print(vy)"
   ]
  },
  {
   "cell_type": "code",
   "execution_count": null,
   "id": "5da3087b-477d-4346-b16d-cb2865277a8c",
   "metadata": {},
   "outputs": [],
   "source": []
  }
 ],
 "metadata": {
  "kernelspec": {
   "display_name": "Python 3 (ipykernel)",
   "language": "python",
   "name": "python3"
  },
  "language_info": {
   "codemirror_mode": {
    "name": "ipython",
    "version": 3
   },
   "file_extension": ".py",
   "mimetype": "text/x-python",
   "name": "python",
   "nbconvert_exporter": "python",
   "pygments_lexer": "ipython3",
   "version": "3.10.8"
  }
 },
 "nbformat": 4,
 "nbformat_minor": 5
}
