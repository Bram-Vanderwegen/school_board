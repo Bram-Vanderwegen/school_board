{
 "cells": [
  {
   "cell_type": "code",
   "execution_count": 2,
   "id": "7d274d27-7b24-43c5-aae5-979f758325ac",
   "metadata": {},
   "outputs": [],
   "source": [
    "import math"
   ]
  },
  {
   "cell_type": "code",
   "execution_count": 11,
   "id": "3659a183-ef03-424e-9a03-9302757e5f8c",
   "metadata": {},
   "outputs": [
    {
     "name": "stdout",
     "output_type": "stream",
     "text": [
      "70064.05694573116\n",
      "9.654144187860465\n"
     ]
    }
   ],
   "source": [
    "R = 510\n",
    "L = 120e-6\n",
    "C = 43e-9\n",
    "f = 1/(2*math.pi)*math.sqrt(1/(L*C))\n",
    "Q = R * math.sqrt(C/L)\n",
    "print(f)\n",
    "print(Q)"
   ]
  },
  {
   "cell_type": "code",
   "execution_count": null,
   "id": "1227f81e-81e3-4787-9a38-eb245c5e3136",
   "metadata": {},
   "outputs": [],
   "source": []
  }
 ],
 "metadata": {
  "kernelspec": {
   "display_name": "Python 3 (ipykernel)",
   "language": "python",
   "name": "python3"
  },
  "language_info": {
   "codemirror_mode": {
    "name": "ipython",
    "version": 3
   },
   "file_extension": ".py",
   "mimetype": "text/x-python",
   "name": "python",
   "nbconvert_exporter": "python",
   "pygments_lexer": "ipython3",
   "version": "3.11.5"
  }
 },
 "nbformat": 4,
 "nbformat_minor": 5
}
